{
  "nbformat": 4,
  "nbformat_minor": 0,
  "metadata": {
    "colab": {
      "provenance": [],
      "authorship_tag": "ABX9TyNmZIQYEgqEg42f0jhJyW0u",
      "include_colab_link": true
    },
    "kernelspec": {
      "name": "python3",
      "display_name": "Python 3"
    },
    "language_info": {
      "name": "python"
    }
  },
  "cells": [
    {
      "cell_type": "markdown",
      "metadata": {
        "id": "view-in-github",
        "colab_type": "text"
      },
      "source": [
        "<a href=\"https://colab.research.google.com/github/kavibharathi1208/python/blob/main/python.ipynb\" target=\"_parent\"><img src=\"https://colab.research.google.com/assets/colab-badge.svg\" alt=\"Open In Colab\"/></a>"
      ]
    },
    {
      "cell_type": "code",
      "execution_count": 1,
      "metadata": {
        "colab": {
          "base_uri": "https://localhost:8080/"
        },
        "id": "W49vWisH7b9j",
        "outputId": "4288f3b9-e651-45b5-bb12-8b37e2ced10c"
      },
      "outputs": [
        {
          "output_type": "stream",
          "name": "stdout",
          "text": [
            "Enter the year 1998\n",
            "The given yera is not a leap year\n"
          ]
        }
      ],
      "source": [
        "year=int(input(\"Enter the year \"));\n",
        "if(year%400==0) or (year%4==0 and year%100!=0):\n",
        "  print(\"The given year is leap year \");\n",
        "else:\n",
        "  print(\"The given yera is not a leap year\");"
      ]
    },
    {
      "cell_type": "code",
      "source": [
        "item1=int(input(\"Enter the item1 \"));\n",
        "item2=int(input(\"Enter the item2 \"));\n",
        "item3=int(input(\"Enter the item3 \"));\n",
        "tot=item1+item2+item3;\n",
        "if tot>500:\n",
        "  dis=(tot)*(10/100);\n",
        "  amt=tot-int(dis);\n",
        "  print(\"The total amount after discount \"+str(amt));\n",
        "else:\n",
        "  print(\"The total amount  \"+tot);"
      ],
      "metadata": {
        "colab": {
          "base_uri": "https://localhost:8080/"
        },
        "id": "Q8CxWpoT7ne_",
        "outputId": "b1cc335c-d543-4e66-c7ec-5dedb43a20b7"
      },
      "execution_count": 2,
      "outputs": [
        {
          "output_type": "stream",
          "name": "stdout",
          "text": [
            "Enter the item1 300\n",
            "Enter the item2 200\n",
            "Enter the item3 500\n",
            "The total amount after discount 900\n"
          ]
        }
      ]
    },
    {
      "cell_type": "code",
      "source": [
        "#electricity bill calculator\n",
        "unit=int(input(\"Enter the units \"));\n",
        "if(unit<=100):\n",
        "  amt=unit*0.5;\n",
        "elif(unit>100 and unit<=300):\n",
        "  amt=unit*0.75;\n",
        "else:\n",
        "  amt=unit*1;\n",
        "print(\"The total amount = \"+str(amt));"
      ],
      "metadata": {
        "colab": {
          "base_uri": "https://localhost:8080/"
        },
        "id": "-mCqmgI37r7f",
        "outputId": "c0d5abb0-64d5-4edb-ce3d-626eadbef4c7"
      },
      "execution_count": 3,
      "outputs": [
        {
          "output_type": "stream",
          "name": "stdout",
          "text": [
            "Enter the units 170\n",
            "The total amount = 127.5\n"
          ]
        }
      ]
    },
    {
      "cell_type": "code",
      "source": [
        "#case study 10 attendence tracker\n",
        "tot_class=int(input(\"Enter the total number of classes \"));\n",
        "class_att=int(input(\"Enter the total of classes attended \"));\n",
        "percent=(class_att/tot_class)*100;\n",
        "if percent>=75:\n",
        "  print(\"Present \");\n",
        "else:\n",
        "  print(\"Absent \");"
      ],
      "metadata": {
        "colab": {
          "base_uri": "https://localhost:8080/"
        },
        "id": "wUeKVMxG7w5W",
        "outputId": "047fd0d4-1983-4a78-e987-7ae42666098f"
      },
      "execution_count": 4,
      "outputs": [
        {
          "output_type": "stream",
          "name": "stdout",
          "text": [
            "Enter the total number of classes 90\n",
            "Enter the total of classes attended 70\n",
            "Present \n"
          ]
        }
      ]
    },
    {
      "cell_type": "code",
      "source": [],
      "metadata": {
        "id": "zo5HDsWe73Xv"
      },
      "execution_count": null,
      "outputs": []
    },
    {
      "cell_type": "code",
      "source": [
        "def questions():\n",
        "    questions = {\n",
        "        1: {\"question\": \"What data type is used to store a sequence of characters in Python?\",\n",
        "            \"options\": {\"A\": \"int\", \"B\": \"float\", \"C\": \"str\", \"D\": \"bool\"}, \"answer\": \"C\"},\n",
        "        2: {\"question\": \"Which keyword is used to define a function in Python?\", \"options\":\n",
        "            {\"A\": \"func\", \"B\": \"define\", \"C\": \"def\", \"D\": \"function\"}, \"answer\": \"C\"},\n",
        "        3: {\"question\": \"What will be the output of print(2 ** 3)?\", \"options\":\n",
        "            {\"A\": \"5\", \"B\": \"6\", \"C\": \"8\", \"D\": \"9\"}, \"answer\": \"C\"},\n",
        "        4: {\"question\": \"Which of the following is used to take user input in Python?\",\n",
        "            \"options\": {\"A\": \"input()\", \"B\": \"scan()\", \"C\": \"read()\", \"D\": \"get()\"}, \"answer\": \"A\"},\n",
        "        5: {\"question\": \"What is the correct way to start a comment in Python?\",\n",
        "            \"options\": {\"A\": \"//\", \"B\": \"/*\", \"C\": \"--\", \"D\": \"#\"}, \"answer\": \"D\"}\n",
        "    }\n",
        "    return questions\n",
        "\n",
        "def run_quiz():\n",
        "    quest = questions()\n",
        "    score = 0\n",
        "\n",
        "    for i, q in quest.items():\n",
        "        print(f\"\\nQuestion {i}: {q['question']}\")\n",
        "        for key, value in q['options'].items():\n",
        "            print(f\"{key}) {value}\")\n",
        "\n",
        "        user_answer = input(\"Enter your answer (A/B/C/D): \").strip().upper()\n",
        "        while user_answer not in [\"A\", \"B\", \"C\", \"D\"]:\n",
        "            user_answer = input(\"Invalid input! Please enter A, B, C, or D: \").strip().upper()\n",
        "\n",
        "        if user_answer == q['answer']:\n",
        "            print(\"Correct!\")\n",
        "            score += 1\n",
        "        else:\n",
        "            print(f\"Wrong! The correct answer was {q['answer']}.\")\n",
        "\n",
        "    final_score = (score / len(quest)) * 100\n",
        "    print(f\"\\nFinal Score: {final_score:.2f}%\")\n",
        "    if final_score >= 80:\n",
        "        print(\"Excellent\")\n",
        "    elif final_score >= 50:\n",
        "        print(\"Good\")\n",
        "    else:\n",
        "        print(\"You need to improve\")\n",
        "\n",
        "    retry = input(\"Would you like to restart the quiz? (yes/no): \").strip().lower()\n",
        "    if retry == \"yes\":\n",
        "        run_quiz()\n",
        "    else:\n",
        "        print(\"Thanks for playing!\")\n",
        "\n",
        "if __name__ == \"__main__\":\n",
        "    run_quiz()\n"
      ],
      "metadata": {
        "colab": {
          "base_uri": "https://localhost:8080/"
        },
        "id": "wJgDgPyQgTr6",
        "outputId": "e7eee039-adc5-4102-8b4c-d6b1183046ca"
      },
      "execution_count": 5,
      "outputs": [
        {
          "output_type": "stream",
          "name": "stdout",
          "text": [
            "\n",
            "Question 1: What data type is used to store a sequence of characters in Python?\n",
            "A) int\n",
            "B) float\n",
            "C) str\n",
            "D) bool\n",
            "Enter your answer (A/B/C/D): a\n",
            "Wrong! The correct answer was C.\n",
            "\n",
            "Question 2: Which keyword is used to define a function in Python?\n",
            "A) func\n",
            "B) define\n",
            "C) def\n",
            "D) function\n",
            "Enter your answer (A/B/C/D): c\n",
            "Correct!\n",
            "\n",
            "Question 3: What will be the output of print(2 ** 3)?\n",
            "A) 5\n",
            "B) 6\n",
            "C) 8\n",
            "D) 9\n",
            "Enter your answer (A/B/C/D): c\n",
            "Correct!\n",
            "\n",
            "Question 4: Which of the following is used to take user input in Python?\n",
            "A) input()\n",
            "B) scan()\n",
            "C) read()\n",
            "D) get()\n",
            "Enter your answer (A/B/C/D): a\n",
            "Correct!\n",
            "\n",
            "Question 5: What is the correct way to start a comment in Python?\n",
            "A) //\n",
            "B) /*\n",
            "C) --\n",
            "D) #\n",
            "Enter your answer (A/B/C/D): d\n",
            "Correct!\n",
            "\n",
            "Final Score: 80.00%\n",
            "Excellent\n",
            "Would you like to restart the quiz? (yes/no): no\n",
            "Thanks for playing!\n"
          ]
        }
      ]
    }
  ]
}